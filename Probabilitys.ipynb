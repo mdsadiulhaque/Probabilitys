{
 "cells": [
  {
   "cell_type": "code",
   "execution_count": 1,
   "id": "8d117632",
   "metadata": {},
   "outputs": [],
   "source": [
    "def P(favourable_outcome,total_outcome):\n",
    "    p=favourable_outcome/total_outcome\n",
    "    print(\"Probability is\",round(p,3))"
   ]
  },
  {
   "cell_type": "code",
   "execution_count": 2,
   "id": "3a1ecaed",
   "metadata": {},
   "outputs": [
    {
     "name": "stdout",
     "output_type": "stream",
     "text": [
      "Probability is 0.167\n"
     ]
    }
   ],
   "source": [
    "favourable_outcome=1\n",
    "total_outcome=6\n",
    "P(favourable_outcome,total_outcome)"
   ]
  },
  {
   "cell_type": "code",
   "execution_count": 3,
   "id": "f519f724",
   "metadata": {},
   "outputs": [
    {
     "name": "stdout",
     "output_type": "stream",
     "text": [
      "Note: you may need to restart the kernel to use updated packages.\n"
     ]
    },
    {
     "name": "stderr",
     "output_type": "stream",
     "text": [
      "ERROR: Could not find a version that satisfies the requirement random (from versions: none)\n",
      "ERROR: No matching distribution found for random\n"
     ]
    }
   ],
   "source": [
    "pip install random"
   ]
  },
  {
   "cell_type": "code",
   "execution_count": 4,
   "id": "3f635536",
   "metadata": {},
   "outputs": [],
   "source": [
    "#law of learge Number\n",
    "from random import randint\n",
    "trails= 100\n",
    "outcomes= []"
   ]
  },
  {
   "cell_type": "code",
   "execution_count": 5,
   "id": "66af8d25",
   "metadata": {},
   "outputs": [
    {
     "name": "stdout",
     "output_type": "stream",
     "text": [
      "Number of Trails 100\n",
      "Head 0\n",
      "Tail 1\n",
      "Number of Trails 100\n",
      "Head 0\n",
      "Tail 2\n",
      "Number of Trails 100\n",
      "Head 1\n",
      "Tail 2\n",
      "Number of Trails 100\n",
      "Head 1\n",
      "Tail 3\n",
      "Number of Trails 100\n",
      "Head 1\n",
      "Tail 4\n",
      "Number of Trails 100\n",
      "Head 1\n",
      "Tail 5\n",
      "Number of Trails 100\n",
      "Head 2\n",
      "Tail 5\n",
      "Number of Trails 100\n",
      "Head 3\n",
      "Tail 5\n",
      "Number of Trails 100\n",
      "Head 3\n",
      "Tail 6\n",
      "Number of Trails 100\n",
      "Head 3\n",
      "Tail 7\n",
      "Number of Trails 100\n",
      "Head 3\n",
      "Tail 8\n",
      "Number of Trails 100\n",
      "Head 3\n",
      "Tail 9\n",
      "Number of Trails 100\n",
      "Head 4\n",
      "Tail 9\n",
      "Number of Trails 100\n",
      "Head 4\n",
      "Tail 10\n",
      "Number of Trails 100\n",
      "Head 4\n",
      "Tail 11\n",
      "Number of Trails 100\n",
      "Head 4\n",
      "Tail 12\n",
      "Number of Trails 100\n",
      "Head 5\n",
      "Tail 12\n",
      "Number of Trails 100\n",
      "Head 6\n",
      "Tail 12\n",
      "Number of Trails 100\n",
      "Head 6\n",
      "Tail 13\n",
      "Number of Trails 100\n",
      "Head 6\n",
      "Tail 14\n",
      "Number of Trails 100\n",
      "Head 6\n",
      "Tail 15\n",
      "Number of Trails 100\n",
      "Head 7\n",
      "Tail 15\n",
      "Number of Trails 100\n",
      "Head 7\n",
      "Tail 16\n",
      "Number of Trails 100\n",
      "Head 8\n",
      "Tail 16\n",
      "Number of Trails 100\n",
      "Head 9\n",
      "Tail 16\n",
      "Number of Trails 100\n",
      "Head 10\n",
      "Tail 16\n",
      "Number of Trails 100\n",
      "Head 10\n",
      "Tail 17\n",
      "Number of Trails 100\n",
      "Head 11\n",
      "Tail 17\n",
      "Number of Trails 100\n",
      "Head 12\n",
      "Tail 17\n",
      "Number of Trails 100\n",
      "Head 13\n",
      "Tail 17\n",
      "Number of Trails 100\n",
      "Head 13\n",
      "Tail 18\n",
      "Number of Trails 100\n",
      "Head 14\n",
      "Tail 18\n",
      "Number of Trails 100\n",
      "Head 15\n",
      "Tail 18\n",
      "Number of Trails 100\n",
      "Head 15\n",
      "Tail 19\n",
      "Number of Trails 100\n",
      "Head 15\n",
      "Tail 20\n",
      "Number of Trails 100\n",
      "Head 16\n",
      "Tail 20\n",
      "Number of Trails 100\n",
      "Head 16\n",
      "Tail 21\n",
      "Number of Trails 100\n",
      "Head 17\n",
      "Tail 21\n",
      "Number of Trails 100\n",
      "Head 17\n",
      "Tail 22\n",
      "Number of Trails 100\n",
      "Head 18\n",
      "Tail 22\n",
      "Number of Trails 100\n",
      "Head 18\n",
      "Tail 23\n",
      "Number of Trails 100\n",
      "Head 18\n",
      "Tail 24\n",
      "Number of Trails 100\n",
      "Head 19\n",
      "Tail 24\n",
      "Number of Trails 100\n",
      "Head 20\n",
      "Tail 24\n",
      "Number of Trails 100\n",
      "Head 21\n",
      "Tail 24\n",
      "Number of Trails 100\n",
      "Head 22\n",
      "Tail 24\n",
      "Number of Trails 100\n",
      "Head 22\n",
      "Tail 25\n",
      "Number of Trails 100\n",
      "Head 22\n",
      "Tail 26\n",
      "Number of Trails 100\n",
      "Head 22\n",
      "Tail 27\n",
      "Number of Trails 100\n",
      "Head 23\n",
      "Tail 27\n",
      "Number of Trails 100\n",
      "Head 24\n",
      "Tail 27\n",
      "Number of Trails 100\n",
      "Head 25\n",
      "Tail 27\n",
      "Number of Trails 100\n",
      "Head 25\n",
      "Tail 28\n",
      "Number of Trails 100\n",
      "Head 26\n",
      "Tail 28\n",
      "Number of Trails 100\n",
      "Head 27\n",
      "Tail 28\n",
      "Number of Trails 100\n",
      "Head 27\n",
      "Tail 29\n",
      "Number of Trails 100\n",
      "Head 27\n",
      "Tail 30\n",
      "Number of Trails 100\n",
      "Head 28\n",
      "Tail 30\n",
      "Number of Trails 100\n",
      "Head 28\n",
      "Tail 31\n",
      "Number of Trails 100\n",
      "Head 28\n",
      "Tail 32\n",
      "Number of Trails 100\n",
      "Head 28\n",
      "Tail 33\n",
      "Number of Trails 100\n",
      "Head 28\n",
      "Tail 34\n",
      "Number of Trails 100\n",
      "Head 28\n",
      "Tail 35\n",
      "Number of Trails 100\n",
      "Head 29\n",
      "Tail 35\n",
      "Number of Trails 100\n",
      "Head 30\n",
      "Tail 35\n",
      "Number of Trails 100\n",
      "Head 30\n",
      "Tail 36\n",
      "Number of Trails 100\n",
      "Head 30\n",
      "Tail 37\n",
      "Number of Trails 100\n",
      "Head 31\n",
      "Tail 37\n",
      "Number of Trails 100\n",
      "Head 31\n",
      "Tail 38\n",
      "Number of Trails 100\n",
      "Head 32\n",
      "Tail 38\n",
      "Number of Trails 100\n",
      "Head 32\n",
      "Tail 39\n",
      "Number of Trails 100\n",
      "Head 32\n",
      "Tail 40\n",
      "Number of Trails 100\n",
      "Head 32\n",
      "Tail 41\n",
      "Number of Trails 100\n",
      "Head 32\n",
      "Tail 42\n",
      "Number of Trails 100\n",
      "Head 32\n",
      "Tail 43\n",
      "Number of Trails 100\n",
      "Head 33\n",
      "Tail 43\n",
      "Number of Trails 100\n",
      "Head 34\n",
      "Tail 43\n",
      "Number of Trails 100\n",
      "Head 35\n",
      "Tail 43\n",
      "Number of Trails 100\n",
      "Head 36\n",
      "Tail 43\n",
      "Number of Trails 100\n",
      "Head 37\n",
      "Tail 43\n",
      "Number of Trails 100\n",
      "Head 38\n",
      "Tail 43\n",
      "Number of Trails 100\n",
      "Head 38\n",
      "Tail 44\n",
      "Number of Trails 100\n",
      "Head 39\n",
      "Tail 44\n",
      "Number of Trails 100\n",
      "Head 39\n",
      "Tail 45\n",
      "Number of Trails 100\n",
      "Head 40\n",
      "Tail 45\n",
      "Number of Trails 100\n",
      "Head 40\n",
      "Tail 46\n",
      "Number of Trails 100\n",
      "Head 40\n",
      "Tail 47\n",
      "Number of Trails 100\n",
      "Head 41\n",
      "Tail 47\n",
      "Number of Trails 100\n",
      "Head 42\n",
      "Tail 47\n",
      "Number of Trails 100\n",
      "Head 42\n",
      "Tail 48\n",
      "Number of Trails 100\n",
      "Head 43\n",
      "Tail 48\n",
      "Number of Trails 100\n",
      "Head 43\n",
      "Tail 49\n",
      "Number of Trails 100\n",
      "Head 43\n",
      "Tail 50\n",
      "Number of Trails 100\n",
      "Head 44\n",
      "Tail 50\n",
      "Number of Trails 100\n",
      "Head 44\n",
      "Tail 51\n",
      "Number of Trails 100\n",
      "Head 45\n",
      "Tail 51\n",
      "Number of Trails 100\n",
      "Head 46\n",
      "Tail 51\n",
      "Number of Trails 100\n",
      "Head 46\n",
      "Tail 52\n",
      "Number of Trails 100\n",
      "Head 46\n",
      "Tail 53\n",
      "Number of Trails 100\n",
      "Head 47\n",
      "Tail 53\n"
     ]
    }
   ],
   "source": [
    "for x in range(trails):\n",
    "    outcomes.append(randint(0,1))\n",
    "    head=outcomes.count(0)\n",
    "    tail=outcomes.count(1)\n",
    "    print('Number of Trails',trails)\n",
    "    print('Head',head)\n",
    "    print('Tail',tail)"
   ]
  },
  {
   "cell_type": "code",
   "execution_count": 12,
   "id": "1bad16e6",
   "metadata": {},
   "outputs": [],
   "source": [
    "trails= 10000000\n",
    "outcomes= []\n",
    "for x in range(trails):\n",
    "    outcomes.append(randint(1,6))"
   ]
  },
  {
   "cell_type": "code",
   "execution_count": 13,
   "id": "d3f8a8c1",
   "metadata": {},
   "outputs": [],
   "source": [
    "one=outcomes.count(1)\n",
    "two=outcomes.count(2)\n",
    "three=outcomes.count(3)\n",
    "four=outcomes.count(4)\n",
    "five=outcomes.count(5)\n",
    "six=outcomes.count(6)"
   ]
  },
  {
   "cell_type": "code",
   "execution_count": 15,
   "id": "6a1429f0",
   "metadata": {},
   "outputs": [
    {
     "name": "stdout",
     "output_type": "stream",
     "text": [
      "Number of trails: 10000000\n",
      "one: 1667192\n",
      "two: 1666476\n",
      "three: 1667685\n",
      "four: 1666365\n",
      "five: 1667979\n",
      "six: 1664303\n"
     ]
    }
   ],
   "source": [
    "print('Number of trails:',trails)\n",
    "print('one:',one)\n",
    "print('two:',two)\n",
    "print('three:',three)\n",
    "print('four:',four)\n",
    "print('five:',five)\n",
    "print('six:',six)"
   ]
  },
  {
   "cell_type": "code",
   "execution_count": 16,
   "id": "0ef20e56",
   "metadata": {},
   "outputs": [],
   "source": [
    "#Independent Events"
   ]
  },
  {
   "cell_type": "code",
   "execution_count": 17,
   "id": "28e6de2d",
   "metadata": {},
   "outputs": [],
   "source": [
    "def a_and_b(a,b,total):\n",
    "    pa=a/total\n",
    "    pb=b/total\n",
    "    ab=pa*pb\n",
    "    print(\"P(A and B)=\",round(ab, 3))"
   ]
  },
  {
   "cell_type": "raw",
   "id": "98a3961d",
   "metadata": {},
   "source": [
    "red=2\n",
    "blue=3\n",
    "total=9\n",
    "a_and_b(red,blue,total)"
   ]
  },
  {
   "cell_type": "code",
   "execution_count": 18,
   "id": "92f9e39e",
   "metadata": {},
   "outputs": [],
   "source": [
    "def a_and_b_conditional(a,b,total):\n",
    "    pa=a/total\n",
    "    remaining_total=total-1\n",
    "    remaining_a_probability=b/remaining_total\n",
    "    ab=pa*remaining_a_probability\n",
    "    print('P(A and B)=',round(ab, 3))"
   ]
  },
  {
   "cell_type": "code",
   "execution_count": 19,
   "id": "9cd2e5cf",
   "metadata": {},
   "outputs": [
    {
     "name": "stdout",
     "output_type": "stream",
     "text": [
      "P(A and B)= 0.318\n"
     ]
    }
   ],
   "source": [
    "yellow=7\n",
    "remaining_yellow=6\n",
    "total=12\n",
    "a_and_b_conditional(yellow,remaining_yellow,total)"
   ]
  },
  {
   "cell_type": "code",
   "execution_count": 20,
   "id": "2eddce62",
   "metadata": {},
   "outputs": [],
   "source": [
    "def a_or_b(a,b,total):\n",
    "    pa=a/total\n",
    "    pb=b/total\n",
    "    ab=pa+pb\n",
    "    print('P(A or B)=',round(ab,3))"
   ]
  },
  {
   "cell_type": "code",
   "execution_count": 21,
   "id": "c1b0005e",
   "metadata": {},
   "outputs": [
    {
     "name": "stdout",
     "output_type": "stream",
     "text": [
      "P(A or B)= 0.154\n"
     ]
    }
   ],
   "source": [
    "king=4\n",
    "queen=4\n",
    "total=52\n",
    "a_or_b(king,queen,total)"
   ]
  },
  {
   "cell_type": "code",
   "execution_count": 24,
   "id": "5d3de34d",
   "metadata": {},
   "outputs": [],
   "source": [
    "def a_or_b_common(a,b,anb,total):\n",
    "    pa=a/total\n",
    "    pb=b/total\n",
    "    a_and_b=anb/total\n",
    "    ab=pa+pb-a_and_b\n",
    "    print('P(A or B)=',round(ab,3))"
   ]
  },
  {
   "cell_type": "code",
   "execution_count": 25,
   "id": "e929380a",
   "metadata": {},
   "outputs": [
    {
     "name": "stdout",
     "output_type": "stream",
     "text": [
      "P(A or B)= 0.567\n"
     ]
    }
   ],
   "source": [
    "Aplus=9\n",
    "girl=13\n",
    "girl_and_Aplus=5\n",
    "total=30\n",
    "a_or_b_common(Aplus,girl,girl_and_Aplus,total)"
   ]
  },
  {
   "cell_type": "code",
   "execution_count": 26,
   "id": "8fde455c",
   "metadata": {},
   "outputs": [],
   "source": [
    "def bayes(a,b,ba):\n",
    "    ab=a*ba/b\n",
    "    print('P(A or B)=',round(ab,3))"
   ]
  },
  {
   "cell_type": "code",
   "execution_count": 27,
   "id": "107d5f5b",
   "metadata": {},
   "outputs": [
    {
     "name": "stdout",
     "output_type": "stream",
     "text": [
      "P(A or B)= 0.125\n"
     ]
    }
   ],
   "source": [
    "rain=0.1\n",
    "cloud=0.4\n",
    "cloude_given_rain=0.5\n",
    "bayes(rain,cloud,cloude_given_rain)"
   ]
  },
  {
   "cell_type": "code",
   "execution_count": null,
   "id": "ab6e4345",
   "metadata": {},
   "outputs": [],
   "source": []
  }
 ],
 "metadata": {
  "kernelspec": {
   "display_name": "Python 3 (ipykernel)",
   "language": "python",
   "name": "python3"
  },
  "language_info": {
   "codemirror_mode": {
    "name": "ipython",
    "version": 3
   },
   "file_extension": ".py",
   "mimetype": "text/x-python",
   "name": "python",
   "nbconvert_exporter": "python",
   "pygments_lexer": "ipython3",
   "version": "3.9.13"
  }
 },
 "nbformat": 4,
 "nbformat_minor": 5
}
